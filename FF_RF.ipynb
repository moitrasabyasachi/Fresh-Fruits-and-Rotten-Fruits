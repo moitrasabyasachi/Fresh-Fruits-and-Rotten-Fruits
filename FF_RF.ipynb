{
  "nbformat": 4,
  "nbformat_minor": 0,
  "metadata": {
    "colab": {
      "name": "FF_RF.ipynb",
      "provenance": [],
      "collapsed_sections": []
    },
    "kernelspec": {
      "name": "python3",
      "display_name": "Python 3"
    },
    "language_info": {
      "name": "python"
    }
  },
  "cells": [
    {
      "cell_type": "markdown",
      "metadata": {
        "id": "Gym28SzZorik"
      },
      "source": [
        "#FRESH FRUIT & ROTTEN FRUIT CLASSIFICATION\n",
        "##Transfer Learning (VGG16)\n",
        "##Dataset : https://www.kaggle.com/sriramr/fruits-fresh-and-rotten-for-classification"
      ]
    },
    {
      "cell_type": "code",
      "metadata": {
        "id": "QBM5GIseolUC"
      },
      "source": [
        "from tensorflow import keras\n",
        "from glob import glob\n",
        "from tensorflow.keras.applications.vgg16 import VGG16\n",
        "import matplotlib.pyplot as plt\n",
        "import numpy as np"
      ],
      "execution_count": null,
      "outputs": []
    },
    {
      "cell_type": "markdown",
      "metadata": {
        "id": "xHBVKmja2Pew"
      },
      "source": [
        "#Preparing dataset (training and validation)"
      ]
    },
    {
      "cell_type": "code",
      "metadata": {
        "id": "vOIGqPpV61wU"
      },
      "source": [
        "BATCH_SIZE = 16"
      ],
      "execution_count": null,
      "outputs": []
    },
    {
      "cell_type": "code",
      "metadata": {
        "colab": {
          "base_uri": "https://localhost:8080/"
        },
        "id": "xUmbESvmEAhc",
        "outputId": "fb7ff466-010d-406e-8922-7311b76626d5"
      },
      "source": [
        "from google.colab import drive\n",
        "drive.mount('/content/drive')"
      ],
      "execution_count": null,
      "outputs": [
        {
          "output_type": "stream",
          "name": "stdout",
          "text": [
            "Mounted at /content/drive\n"
          ]
        }
      ]
    },
    {
      "cell_type": "code",
      "source": [
        "cd /content/drive/MyDrive/Colab_Notebooks/DL/Projects/Classification/Fresh_Fruits_and_Rotten_Fruits"
      ],
      "metadata": {
        "colab": {
          "base_uri": "https://localhost:8080/"
        },
        "id": "Zsvgv3EGm6Lk",
        "outputId": "6135ad62-a364-486f-e199-c175585f8fda"
      },
      "execution_count": null,
      "outputs": [
        {
          "output_type": "stream",
          "name": "stdout",
          "text": [
            "/content/drive/MyDrive/Colab_Notebooks/DL/Projects/Classification/Fresh_Fruits_and_Rotten_Fruits\n"
          ]
        }
      ]
    },
    {
      "cell_type": "code",
      "source": [
        "pwd"
      ],
      "metadata": {
        "colab": {
          "base_uri": "https://localhost:8080/",
          "height": 35
        },
        "id": "4gXiE7bUm806",
        "outputId": "b3d77438-94e0-4c3c-e2c1-c81cc25d2fe7"
      },
      "execution_count": null,
      "outputs": [
        {
          "output_type": "execute_result",
          "data": {
            "application/vnd.google.colaboratory.intrinsic+json": {
              "type": "string"
            },
            "text/plain": [
              "'/content/drive/MyDrive/Colab_Notebooks/DL/Projects/Classification/Fresh_Fruits_and_Rotten_Fruits'"
            ]
          },
          "metadata": {},
          "execution_count": 5
        }
      ]
    },
    {
      "cell_type": "markdown",
      "metadata": {
        "id": "f8rc63uU2tkp"
      },
      "source": [
        "##Training set"
      ]
    },
    {
      "cell_type": "code",
      "metadata": {
        "id": "RuZQn3jNu0C8",
        "colab": {
          "base_uri": "https://localhost:8080/"
        },
        "outputId": "ff1348eb-8891-4918-ca04-455afd2e2199"
      },
      "source": [
        "train_data = 'dataset/train'\n",
        "train_datagen = keras.preprocessing.image.ImageDataGenerator()\n",
        "training_set = train_datagen.flow_from_directory(train_data, batch_size=BATCH_SIZE, class_mode='categorical')"
      ],
      "execution_count": null,
      "outputs": [
        {
          "output_type": "stream",
          "name": "stdout",
          "text": [
            "Found 10901 images belonging to 6 classes.\n"
          ]
        }
      ]
    },
    {
      "cell_type": "code",
      "source": [
        "NUM_CLASSES = glob('dataset/train/*')\n",
        "NUM_CLASSES"
      ],
      "metadata": {
        "colab": {
          "base_uri": "https://localhost:8080/"
        },
        "id": "H3C5bgOUo_tI",
        "outputId": "82403fe3-cc8a-4d43-d304-f415772f56b6"
      },
      "execution_count": null,
      "outputs": [
        {
          "output_type": "execute_result",
          "data": {
            "text/plain": [
              "['dataset/train/freshapples',\n",
              " 'dataset/train/freshbanana',\n",
              " 'dataset/train/freshoranges',\n",
              " 'dataset/train/rottenapples',\n",
              " 'dataset/train/rottenbanana',\n",
              " 'dataset/train/rottenoranges']"
            ]
          },
          "metadata": {},
          "execution_count": 7
        }
      ]
    },
    {
      "cell_type": "markdown",
      "metadata": {
        "id": "nHRdA37t4g0X"
      },
      "source": [
        "##Validation set"
      ]
    },
    {
      "cell_type": "code",
      "metadata": {
        "id": "iv-s3A7cu0C9",
        "colab": {
          "base_uri": "https://localhost:8080/"
        },
        "outputId": "2650596f-f3b8-4a87-e36d-b89fb63088a7"
      },
      "source": [
        "validation_data = 'dataset/test'\n",
        "validation_datagen = keras.preprocessing.image.ImageDataGenerator()\n",
        "validation_set = validation_datagen.flow_from_directory(validation_data, batch_size=BATCH_SIZE, class_mode='categorical')"
      ],
      "execution_count": null,
      "outputs": [
        {
          "output_type": "stream",
          "name": "stdout",
          "text": [
            "Found 2698 images belonging to 6 classes.\n"
          ]
        }
      ]
    },
    {
      "cell_type": "markdown",
      "metadata": {
        "id": "Z8FatRCAElc2"
      },
      "source": [
        "#Building the model"
      ]
    },
    {
      "cell_type": "code",
      "metadata": {
        "id": "rdiyOngDrNvh"
      },
      "source": [
        "IMAGE_SIZE = 224"
      ],
      "execution_count": null,
      "outputs": []
    },
    {
      "cell_type": "markdown",
      "metadata": {
        "id": "CQ8ZPeF0d5_W"
      },
      "source": [
        "##Base model (VGG16)"
      ]
    },
    {
      "cell_type": "code",
      "metadata": {
        "id": "sW2u_sTBr9Vx",
        "colab": {
          "base_uri": "https://localhost:8080/"
        },
        "outputId": "02f8b234-8fd7-453f-fa46-3055d206b09b"
      },
      "source": [
        "#create the base model from the pre-trained VGG16 model with ANN part removed\n",
        "vgg16 = VGG16(input_shape=[IMAGE_SIZE]+[IMAGE_SIZE]+[3], weights='imagenet', include_top=False)\n",
        "\n",
        "#freeze the convolutional base\n",
        "for layer in vgg16.layers:\n",
        "  layer.trainable = False\n",
        "\n",
        "#base model summary\n",
        "vgg16.summary()"
      ],
      "execution_count": null,
      "outputs": [
        {
          "output_type": "stream",
          "name": "stdout",
          "text": [
            "Downloading data from https://storage.googleapis.com/tensorflow/keras-applications/vgg16/vgg16_weights_tf_dim_ordering_tf_kernels_notop.h5\n",
            "58892288/58889256 [==============================] - 0s 0us/step\n",
            "58900480/58889256 [==============================] - 0s 0us/step\n",
            "Model: \"vgg16\"\n",
            "_________________________________________________________________\n",
            " Layer (type)                Output Shape              Param #   \n",
            "=================================================================\n",
            " input_1 (InputLayer)        [(None, 224, 224, 3)]     0         \n",
            "                                                                 \n",
            " block1_conv1 (Conv2D)       (None, 224, 224, 64)      1792      \n",
            "                                                                 \n",
            " block1_conv2 (Conv2D)       (None, 224, 224, 64)      36928     \n",
            "                                                                 \n",
            " block1_pool (MaxPooling2D)  (None, 112, 112, 64)      0         \n",
            "                                                                 \n",
            " block2_conv1 (Conv2D)       (None, 112, 112, 128)     73856     \n",
            "                                                                 \n",
            " block2_conv2 (Conv2D)       (None, 112, 112, 128)     147584    \n",
            "                                                                 \n",
            " block2_pool (MaxPooling2D)  (None, 56, 56, 128)       0         \n",
            "                                                                 \n",
            " block3_conv1 (Conv2D)       (None, 56, 56, 256)       295168    \n",
            "                                                                 \n",
            " block3_conv2 (Conv2D)       (None, 56, 56, 256)       590080    \n",
            "                                                                 \n",
            " block3_conv3 (Conv2D)       (None, 56, 56, 256)       590080    \n",
            "                                                                 \n",
            " block3_pool (MaxPooling2D)  (None, 28, 28, 256)       0         \n",
            "                                                                 \n",
            " block4_conv1 (Conv2D)       (None, 28, 28, 512)       1180160   \n",
            "                                                                 \n",
            " block4_conv2 (Conv2D)       (None, 28, 28, 512)       2359808   \n",
            "                                                                 \n",
            " block4_conv3 (Conv2D)       (None, 28, 28, 512)       2359808   \n",
            "                                                                 \n",
            " block4_pool (MaxPooling2D)  (None, 14, 14, 512)       0         \n",
            "                                                                 \n",
            " block5_conv1 (Conv2D)       (None, 14, 14, 512)       2359808   \n",
            "                                                                 \n",
            " block5_conv2 (Conv2D)       (None, 14, 14, 512)       2359808   \n",
            "                                                                 \n",
            " block5_conv3 (Conv2D)       (None, 14, 14, 512)       2359808   \n",
            "                                                                 \n",
            " block5_pool (MaxPooling2D)  (None, 7, 7, 512)         0         \n",
            "                                                                 \n",
            "=================================================================\n",
            "Total params: 14,714,688\n",
            "Trainable params: 0\n",
            "Non-trainable params: 14,714,688\n",
            "_________________________________________________________________\n"
          ]
        }
      ]
    },
    {
      "cell_type": "markdown",
      "metadata": {
        "id": "byDOd5qo1iTp"
      },
      "source": [
        "##Base model (VGG16) + Our layers"
      ]
    },
    {
      "cell_type": "code",
      "metadata": {
        "id": "vDBlTBTQvCAz",
        "colab": {
          "base_uri": "https://localhost:8080/"
        },
        "outputId": "0a71606d-8bca-41e3-944b-ebb48dde17ee"
      },
      "source": [
        "#initialising the model\n",
        "model_vgg16 = keras.models.Sequential()\n",
        "\n",
        "#Input layer\n",
        "model_vgg16.add(keras.layers.Input(shape=(None, None, 3)))\n",
        "\n",
        "#Resizing layer\n",
        "model_vgg16.add(keras.layers.experimental.preprocessing.Resizing(height=IMAGE_SIZE, width=IMAGE_SIZE))\n",
        "\n",
        "#Rescaling layer\n",
        "model_vgg16.add(keras.layers.experimental.preprocessing.Rescaling(scale=1./255))\n",
        "\n",
        "#Data augmentation layers\n",
        "model_vgg16.add(keras.layers.experimental.preprocessing.RandomRotation(0.2))\n",
        "model_vgg16.add(keras.layers.experimental.preprocessing.RandomZoom(0.2))\n",
        "model_vgg16.add(keras.layers.experimental.preprocessing.RandomFlip(mode=\"horizontal\"))\n",
        "\n",
        "#Base model\n",
        "model_vgg16.add(vgg16)  \n",
        "\n",
        "#Flatten\n",
        "model_vgg16.add(keras.layers.Flatten()) \n",
        "\n",
        "#Hidden layer\n",
        "model_vgg16.add(keras.layers.Dense(units=256, activation='relu', kernel_initializer='he_uniform'))\n",
        "\n",
        "#Dropout layer\n",
        "model_vgg16.add(keras.layers.Dropout(rate=0.5))\n",
        "\n",
        "#Output layer\n",
        "model_vgg16.add(keras.layers.Dense(units=len(NUM_CLASSES), activation='softmax')) \n",
        "\n",
        "#compiling the model\n",
        "model_vgg16.compile(optimizer='adam', loss='categorical_crossentropy', metrics=['accuracy'])\n",
        "\n",
        "#view the structure of the model\n",
        "model_vgg16.summary()"
      ],
      "execution_count": null,
      "outputs": [
        {
          "output_type": "stream",
          "name": "stdout",
          "text": [
            "Model: \"sequential\"\n",
            "_________________________________________________________________\n",
            " Layer (type)                Output Shape              Param #   \n",
            "=================================================================\n",
            " resizing (Resizing)         (None, 224, 224, 3)       0         \n",
            "                                                                 \n",
            " rescaling (Rescaling)       (None, 224, 224, 3)       0         \n",
            "                                                                 \n",
            " random_rotation (RandomRota  (None, 224, 224, 3)      0         \n",
            " tion)                                                           \n",
            "                                                                 \n",
            " random_zoom (RandomZoom)    (None, 224, 224, 3)       0         \n",
            "                                                                 \n",
            " random_flip (RandomFlip)    (None, 224, 224, 3)       0         \n",
            "                                                                 \n",
            " vgg16 (Functional)          (None, 7, 7, 512)         14714688  \n",
            "                                                                 \n",
            " flatten (Flatten)           (None, 25088)             0         \n",
            "                                                                 \n",
            " dense (Dense)               (None, 256)               6422784   \n",
            "                                                                 \n",
            " dropout (Dropout)           (None, 256)               0         \n",
            "                                                                 \n",
            " dense_1 (Dense)             (None, 6)                 1542      \n",
            "                                                                 \n",
            "=================================================================\n",
            "Total params: 21,139,014\n",
            "Trainable params: 6,424,326\n",
            "Non-trainable params: 14,714,688\n",
            "_________________________________________________________________\n"
          ]
        }
      ]
    },
    {
      "cell_type": "markdown",
      "metadata": {
        "id": "3fBDg9A8O-Os"
      },
      "source": [
        "#Training phase"
      ]
    },
    {
      "cell_type": "code",
      "metadata": {
        "scrolled": true,
        "id": "MPx7MiD8u0DR",
        "colab": {
          "base_uri": "https://localhost:8080/"
        },
        "outputId": "2e1a9d06-f4ed-4d8a-e93d-dc81824c8bbf"
      },
      "source": [
        "#training the model on the training set and evaluating it on the validation set\n",
        "model_vgg16_history = model_vgg16.fit(x=training_set, validation_data=validation_set, epochs=25)"
      ],
      "execution_count": 12,
      "outputs": [
        {
          "output_type": "stream",
          "name": "stdout",
          "text": [
            "Epoch 1/25\n",
            "682/682 [==============================] - 4002s 6s/step - loss: 0.8162 - accuracy: 0.6960 - val_loss: 0.3332 - val_accuracy: 0.9033\n",
            "Epoch 2/25\n",
            "682/682 [==============================] - 89s 131ms/step - loss: 0.5636 - accuracy: 0.7825 - val_loss: 0.2553 - val_accuracy: 0.9218\n",
            "Epoch 3/25\n",
            "682/682 [==============================] - 88s 130ms/step - loss: 0.5018 - accuracy: 0.8043 - val_loss: 0.2119 - val_accuracy: 0.9181\n",
            "Epoch 4/25\n",
            "682/682 [==============================] - 88s 130ms/step - loss: 0.4428 - accuracy: 0.8322 - val_loss: 0.1899 - val_accuracy: 0.9322\n",
            "Epoch 5/25\n",
            "682/682 [==============================] - 88s 130ms/step - loss: 0.4353 - accuracy: 0.8356 - val_loss: 0.1798 - val_accuracy: 0.9370\n",
            "Epoch 6/25\n",
            "682/682 [==============================] - 89s 130ms/step - loss: 0.3985 - accuracy: 0.8477 - val_loss: 0.2167 - val_accuracy: 0.9248\n",
            "Epoch 7/25\n",
            "682/682 [==============================] - 89s 130ms/step - loss: 0.3897 - accuracy: 0.8528 - val_loss: 0.1394 - val_accuracy: 0.9566\n",
            "Epoch 8/25\n",
            "682/682 [==============================] - 88s 129ms/step - loss: 0.3670 - accuracy: 0.8579 - val_loss: 0.1109 - val_accuracy: 0.9633\n",
            "Epoch 9/25\n",
            "682/682 [==============================] - 88s 129ms/step - loss: 0.3454 - accuracy: 0.8652 - val_loss: 0.0988 - val_accuracy: 0.9689\n",
            "Epoch 10/25\n",
            "682/682 [==============================] - 87s 127ms/step - loss: 0.3430 - accuracy: 0.8720 - val_loss: 0.1633 - val_accuracy: 0.9466\n",
            "Epoch 11/25\n",
            "682/682 [==============================] - 88s 130ms/step - loss: 0.3179 - accuracy: 0.8793 - val_loss: 0.1167 - val_accuracy: 0.9633\n",
            "Epoch 12/25\n",
            "682/682 [==============================] - 88s 129ms/step - loss: 0.3042 - accuracy: 0.8869 - val_loss: 0.1300 - val_accuracy: 0.9581\n",
            "Epoch 13/25\n",
            "682/682 [==============================] - 88s 130ms/step - loss: 0.3151 - accuracy: 0.8808 - val_loss: 0.1124 - val_accuracy: 0.9674\n",
            "Epoch 14/25\n",
            "682/682 [==============================] - 89s 131ms/step - loss: 0.3188 - accuracy: 0.8785 - val_loss: 0.1028 - val_accuracy: 0.9655\n",
            "Epoch 15/25\n",
            "682/682 [==============================] - 88s 129ms/step - loss: 0.3055 - accuracy: 0.8865 - val_loss: 0.1089 - val_accuracy: 0.9666\n",
            "Epoch 16/25\n",
            "682/682 [==============================] - 88s 130ms/step - loss: 0.3010 - accuracy: 0.8884 - val_loss: 0.1001 - val_accuracy: 0.9685\n",
            "Epoch 17/25\n",
            "682/682 [==============================] - 89s 130ms/step - loss: 0.2808 - accuracy: 0.8909 - val_loss: 0.0817 - val_accuracy: 0.9741\n",
            "Epoch 18/25\n",
            "682/682 [==============================] - 89s 131ms/step - loss: 0.2799 - accuracy: 0.8973 - val_loss: 0.0755 - val_accuracy: 0.9763\n",
            "Epoch 19/25\n",
            "682/682 [==============================] - 88s 129ms/step - loss: 0.2770 - accuracy: 0.8973 - val_loss: 0.0753 - val_accuracy: 0.9759\n",
            "Epoch 20/25\n",
            "682/682 [==============================] - 88s 130ms/step - loss: 0.2695 - accuracy: 0.8985 - val_loss: 0.1235 - val_accuracy: 0.9633\n",
            "Epoch 21/25\n",
            "682/682 [==============================] - 88s 129ms/step - loss: 0.2812 - accuracy: 0.8927 - val_loss: 0.1224 - val_accuracy: 0.9574\n",
            "Epoch 22/25\n",
            "682/682 [==============================] - 89s 130ms/step - loss: 0.2566 - accuracy: 0.9015 - val_loss: 0.0753 - val_accuracy: 0.9766\n",
            "Epoch 23/25\n",
            "682/682 [==============================] - 89s 130ms/step - loss: 0.2598 - accuracy: 0.9011 - val_loss: 0.0905 - val_accuracy: 0.9726\n",
            "Epoch 24/25\n",
            "682/682 [==============================] - 88s 129ms/step - loss: 0.2607 - accuracy: 0.9004 - val_loss: 0.0804 - val_accuracy: 0.9755\n",
            "Epoch 25/25\n",
            "682/682 [==============================] - 89s 131ms/step - loss: 0.2623 - accuracy: 0.9017 - val_loss: 0.0591 - val_accuracy: 0.9774\n"
          ]
        }
      ]
    },
    {
      "cell_type": "markdown",
      "metadata": {
        "id": "vXPoLf9DUQQd"
      },
      "source": [
        "##Plot the loss & accuracy"
      ]
    },
    {
      "cell_type": "code",
      "metadata": {
        "id": "RC_nb7U2u0DT",
        "colab": {
          "base_uri": "https://localhost:8080/",
          "height": 369
        },
        "outputId": "db430b5a-e84c-4abd-e21e-89b0d23d9ea1"
      },
      "source": [
        "plt.figure(figsize=(10,5))\n",
        "plt.subplot(1,2,1)\n",
        "plt.plot(model_vgg16_history.history['loss'], label='train loss')\n",
        "plt.plot(model_vgg16_history.history['val_loss'], label='val loss')\n",
        "plt.legend()\n",
        "plt.xlabel(\"Epoch\")\n",
        "plt.ylabel(\"Loss\")\n",
        "plt.subplot(1,2,2)\n",
        "plt.plot(model_vgg16_history.history['accuracy'], label='train acc')\n",
        "plt.plot(model_vgg16_history.history['val_accuracy'], label='val acc')\n",
        "plt.legend()\n",
        "plt.xlabel(\"Epoch\")\n",
        "plt.ylabel(\"Accuracy\")\n",
        "plt.tight_layout()\n",
        "plt.show()"
      ],
      "execution_count": 13,
      "outputs": [
        {
          "output_type": "display_data",
          "data": {
            "image/png": "[encoded data removed]",
            "text/plain": [
              "<Figure size 720x360 with 2 Axes>"
            ]
          },
          "metadata": {
            "needs_background": "light"
          }
        }
      ]
    },
    {
      "cell_type": "code",
      "metadata": {
        "id": "jicETPJIu0DV"
      },
      "source": [
        "##save the trained model as a h5 file\n",
        "model_vgg16.save('model_vgg16_FF_RF.h5')"
      ],
      "execution_count": 14,
      "outputs": []
    },
    {
      "cell_type": "code",
      "metadata": {
        "id": "ZnIsQDVsu0DW",
        "colab": {
          "base_uri": "https://localhost:8080/"
        },
        "outputId": "c655d112-266e-4a45-bac8-efad191a92e7"
      },
      "source": [
        "##load the trained model\n",
        "trained_model_vgg16 = keras.models.load_model('model_vgg16_FF_RF.h5')\n",
        "trained_model_vgg16.summary()"
      ],
      "execution_count": 15,
      "outputs": [
        {
          "output_type": "stream",
          "name": "stdout",
          "text": [
            "Model: \"sequential\"\n",
            "_________________________________________________________________\n",
            " Layer (type)                Output Shape              Param #   \n",
            "=================================================================\n",
            " resizing (Resizing)         (None, 224, 224, 3)       0         \n",
            "                                                                 \n",
            " rescaling (Rescaling)       (None, 224, 224, 3)       0         \n",
            "                                                                 \n",
            " random_rotation (RandomRota  (None, 224, 224, 3)      0         \n",
            " tion)                                                           \n",
            "                                                                 \n",
            " random_zoom (RandomZoom)    (None, 224, 224, 3)       0         \n",
            "                                                                 \n",
            " random_flip (RandomFlip)    (None, 224, 224, 3)       0         \n",
            "                                                                 \n",
            " vgg16 (Functional)          (None, 7, 7, 512)         14714688  \n",
            "                                                                 \n",
            " flatten (Flatten)           (None, 25088)             0         \n",
            "                                                                 \n",
            " dense (Dense)               (None, 256)               6422784   \n",
            "                                                                 \n",
            " dropout (Dropout)           (None, 256)               0         \n",
            "                                                                 \n",
            " dense_1 (Dense)             (None, 6)                 1542      \n",
            "                                                                 \n",
            "=================================================================\n",
            "Total params: 21,139,014\n",
            "Trainable params: 6,424,326\n",
            "Non-trainable params: 14,714,688\n",
            "_________________________________________________________________\n"
          ]
        }
      ]
    },
    {
      "cell_type": "markdown",
      "metadata": {
        "id": "2oloTsUKZST9"
      },
      "source": [
        "#Testing phase"
      ]
    },
    {
      "cell_type": "code",
      "metadata": {
        "id": "NmzhlFEW7Kur",
        "colab": {
          "base_uri": "https://localhost:8080/"
        },
        "outputId": "b77c234a-7586-4fd8-e7d1-b76c0ffe8e50"
      },
      "source": [
        "##predicting single test data\n",
        "td = 'dataset/test/freshapples/rotated_by_15_Screen Shot 2018-06-08 at 4.59.49 PM.png'\n",
        "ti = keras.preprocessing.image.load_img(td)  #image reading\n",
        "ti = keras.preprocessing.image.img_to_array(ti) #(h, w, 3)\n",
        "ti = np.array([ti]) #(n, h, w, 3)\n",
        "\n",
        "#prediction\n",
        "res = trained_model_vgg16.predict(ti)\n",
        "np.argmax(res)"
      ],
      "execution_count": 20,
      "outputs": [
        {
          "output_type": "execute_result",
          "data": {
            "text/plain": [
              "0"
            ]
          },
          "metadata": {},
          "execution_count": 20
        }
      ]
    }
  ]
}